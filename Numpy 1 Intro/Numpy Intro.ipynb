{
 "cells": [
  {
   "cell_type": "markdown",
   "id": "13c23682",
   "metadata": {},
   "source": [
    "# Numpy Introduction\n"
   ]
  },
  {
   "cell_type": "markdown",
   "id": "28e33421",
   "metadata": {},
   "source": [
    "<i><h3>What is NumPy?</h3>\n",
    "\n",
    "NumPy is a Python library used for working with arrays.\n",
    "It also has functions for working in domain of linear algebra, fourier transform, and matrices.\n",
    "NumPy was created in 2005 by Travis Oliphant. It is an open source project and you can use it freely.\n",
    "NumPy stands for Numerical Python.\n",
    "\n",
    "<h3>Why Use NumPy?</h3>\n",
    "\n",
    "In Python we have lists that serve the purpose of arrays, but they are slow to process.\n",
    "NumPy aims to provide an array object that is up to 50x faster than traditional Python lists.\n",
    "The array object in NumPy is called ndarray, it provides a lot of supporting functions that make working with ndarray very easy.\n",
    "Arrays are very frequently used in data science, where speed and resources are very important.\n",
    "Data Science: is a branch of computer science where we study how to store, use and analyze data for deriving information from it.\n",
    "\n",
    "<h3>Why is NumPy Faster Than Lists?</h3>\n",
    "\n",
    "NumPy arrays are stored at one continuous place in memory unlike lists, so processes can access and manipulate them very efficiently.\n",
    "This behavior is called locality of reference in computer science.\n",
    "This is the main reason why NumPy is faster than lists. Also it is optimized to work with latest CPU architectures.\n",
    "\n",
    "<h3>Which Language is NumPy written in?</h3>\n",
    "\n",
    "NumPy is a Python library and is written partially in Python, but most of the parts that require fast computation are written in C or C++.\n",
    "\n",
    "<h3>Where is the NumPy Codebase?</h3>\n",
    "\n",
    "The source code for NumPy is located at this github repository https://github.com/numpy/numpy </i>"
   ]
  },
  {
   "cell_type": "code",
   "execution_count": null,
   "id": "7f27787e",
   "metadata": {},
   "outputs": [],
   "source": []
  }
 ],
 "metadata": {
  "kernelspec": {
   "display_name": "Python 3 (ipykernel)",
   "language": "python",
   "name": "python3"
  },
  "language_info": {
   "codemirror_mode": {
    "name": "ipython",
    "version": 3
   },
   "file_extension": ".py",
   "mimetype": "text/x-python",
   "name": "python",
   "nbconvert_exporter": "python",
   "pygments_lexer": "ipython3",
   "version": "3.9.13"
  }
 },
 "nbformat": 4,
 "nbformat_minor": 5
}
