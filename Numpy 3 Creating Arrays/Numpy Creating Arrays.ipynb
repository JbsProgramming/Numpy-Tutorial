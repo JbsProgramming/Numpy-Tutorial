{
 "cells": [
  {
   "cell_type": "markdown",
   "id": "bae50ef7",
   "metadata": {},
   "source": [
    "## Create  a Numpy ndarray Object\n"
   ]
  },
  {
   "cell_type": "markdown",
   "id": "0bd91346",
   "metadata": {},
   "source": [
    "#### @jabedkhanjb"
   ]
  },
  {
   "cell_type": "code",
   "execution_count": 2,
   "id": "3ab9f35e",
   "metadata": {},
   "outputs": [
    {
     "name": "stdout",
     "output_type": "stream",
     "text": [
      "[1 3 5 7 9]\n",
      "<class 'numpy.ndarray'>\n"
     ]
    }
   ],
   "source": [
    "import numpy as np\n",
    "\n",
    "arr = np.array([1, 3, 5, 7, 9])\n",
    "print(arr)\n",
    "print(type(arr))"
   ]
  },
  {
   "cell_type": "markdown",
   "id": "e7a2d8b7",
   "metadata": {},
   "source": [
    "type(): This built-in Python function tells us the type of the object passed to it. Like in above code it shows that arr is numpy.ndarray type."
   ]
  },
  {
   "cell_type": "markdown",
   "id": "fcb3fd01",
   "metadata": {},
   "source": [
    "### To create an ndarray, we can pass a list, tuple or any array-like object into the array() method, and it will be converted into an ndarray:"
   ]
  },
  {
   "cell_type": "code",
   "execution_count": 7,
   "id": "1bbef354",
   "metadata": {},
   "outputs": [
    {
     "name": "stdout",
     "output_type": "stream",
     "text": [
      "[9 7 5 3 1]\n"
     ]
    }
   ],
   "source": [
    "myarray = (9, 7, 5, 3, 1)\n",
    "\n",
    "\n",
    "print(np.array(myarray))"
   ]
  },
  {
   "cell_type": "markdown",
   "id": "73b42608",
   "metadata": {},
   "source": [
    "## Dimensions in Arrays"
   ]
  },
  {
   "cell_type": "markdown",
   "id": "40ec3772",
   "metadata": {},
   "source": [
    "A dimension in arrays is one level of array depth (nested arrays).\n",
    "\n",
    "nested array: are arrays that have arrays as their elements.\n"
   ]
  },
  {
   "cell_type": "markdown",
   "id": "79725472",
   "metadata": {},
   "source": [
    "# 0-D Arrays"
   ]
  },
  {
   "cell_type": "markdown",
   "id": "e3d653d9",
   "metadata": {},
   "source": [
    "0-D arrays, or Scalars, are the elements in an array. Each value in an array is a 0-D array."
   ]
  },
  {
   "cell_type": "markdown",
   "id": "45838f8b",
   "metadata": {},
   "source": [
    "<i>Create a 0-D array with value n number</i>"
   ]
  },
  {
   "cell_type": "code",
   "execution_count": 5,
   "id": "45721f66",
   "metadata": {},
   "outputs": [
    {
     "name": "stdout",
     "output_type": "stream",
     "text": [
      "42\n"
     ]
    }
   ],
   "source": [
    "import numpy as np\n",
    "arr = np.array(42)\n",
    "print(arr)"
   ]
  },
  {
   "cell_type": "markdown",
   "id": "6a341aed",
   "metadata": {},
   "source": [
    "# 1-D Arrays"
   ]
  },
  {
   "cell_type": "markdown",
   "id": "5edcdc69",
   "metadata": {},
   "source": [
    "An array that has 0-D arrays as its elements is called uni-dimensional or 1-D array.\n",
    "\n",
    "These are the most common and basic arrays."
   ]
  },
  {
   "cell_type": "markdown",
   "id": "28c10754",
   "metadata": {},
   "source": [
    "<i>Create a 1-D array containing the values 1,2,3,4,5:</i>"
   ]
  },
  {
   "cell_type": "code",
   "execution_count": 9,
   "id": "ca4072cb",
   "metadata": {},
   "outputs": [
    {
     "name": "stdout",
     "output_type": "stream",
     "text": [
      "[1 2 3 4 5]\n"
     ]
    }
   ],
   "source": [
    "arr = np.array([1, 2, 3, 4, 5])\n",
    "print(arr)"
   ]
  },
  {
   "cell_type": "markdown",
   "id": "39e33749",
   "metadata": {},
   "source": [
    "# 2-D Arrays"
   ]
  },
  {
   "cell_type": "markdown",
   "id": "24ed93f8",
   "metadata": {},
   "source": [
    "An array that has 1-D arrays as its elements is called a 2-D array.\n",
    "\n",
    "These are often used to represent matrix or 2nd order tensors."
   ]
  },
  {
   "cell_type": "markdown",
   "id": "211fb7e2",
   "metadata": {},
   "source": [
    "NumPy has a whole sub module dedicated towards matrix operations called <b>numpy.mat</b>"
   ]
  },
  {
   "cell_type": "markdown",
   "id": "b3aa92b9",
   "metadata": {},
   "source": [
    "<i>Create a 2-D array containing two arrays with the values 1,2,3 and 4,5,6:</i>"
   ]
  },
  {
   "cell_type": "code",
   "execution_count": 10,
   "id": "8b50f806",
   "metadata": {},
   "outputs": [
    {
     "name": "stdout",
     "output_type": "stream",
     "text": [
      "[[1 2 3]\n",
      " [4 5 6]]\n"
     ]
    }
   ],
   "source": [
    "arr = np.array([[1, 2, 3], [4, 5, 6]])\n",
    "\n",
    "print(arr) "
   ]
  },
  {
   "cell_type": "markdown",
   "id": "6aabecf7",
   "metadata": {},
   "source": [
    "# 3-D Arrays\n",
    "An array that has 2-D arrays (matrices) as its elements is called 3-D array.\n",
    "\n",
    "These are often used to represent a 3rd order tensor."
   ]
  },
  {
   "cell_type": "markdown",
   "id": "fe8dfc5e",
   "metadata": {},
   "source": [
    "<i>Create a 3-D array with two 2-D arrays, both containing two arrays with the values 1,2,3 and 4,5,6:</i>"
   ]
  },
  {
   "cell_type": "code",
   "execution_count": 15,
   "id": "71dff5a5",
   "metadata": {
    "scrolled": true
   },
   "outputs": [
    {
     "name": "stdout",
     "output_type": "stream",
     "text": [
      "[[[1 2 3]\n",
      "  [4 5 6]]\n",
      "\n",
      " [[1 2 3]\n",
      "  [4 5 6]]]\n"
     ]
    }
   ],
   "source": [
    "myarray = [[[1, 2, 3], [4, 5, 6]], [[1, 2, 3], [4, 5, 6]]]\n",
    "x = np.array(myarray)\n",
    "print(x)"
   ]
  },
  {
   "cell_type": "markdown",
   "id": "0689fda2",
   "metadata": {},
   "source": [
    "# Check Number of Dimensions?\n",
    "\n",
    "NumPy Arrays provides the ndim attribute that returns an integer that tells us how many dimensions the array have."
   ]
  },
  {
   "cell_type": "markdown",
   "id": "760a759d",
   "metadata": {},
   "source": [
    "<i>Check how many dimensions the arrays have:</i>"
   ]
  },
  {
   "cell_type": "code",
   "execution_count": 21,
   "id": "5e8b1608",
   "metadata": {},
   "outputs": [
    {
     "name": "stdout",
     "output_type": "stream",
     "text": [
      "0\n",
      "1\n",
      "2\n",
      "3\n",
      "<class 'numpy.ndarray'>\n"
     ]
    }
   ],
   "source": [
    "a = np.array(42) # O-D Dimension\n",
    "b = np.array([1, 2, 3, 4, 5]) # 1-D Dimension\n",
    "c = np.array([[1, 2, 3], [4, 5, 6]]) # 2-D Dimension\n",
    "d = np.array([[[1, 2, 3], [4, 5, 6]], [[1, 2, 3], [4, 5, 6]]]) # 3-D Dimension\n",
    "\n",
    "print(a.ndim)\n",
    "print(b.ndim)\n",
    "print(c.ndim)\n",
    "print(d.ndim)\n",
    "print(type(d))"
   ]
  },
  {
   "cell_type": "markdown",
   "id": "65a53faa",
   "metadata": {},
   "source": [
    "# Higher Dimensional Arrays\n",
    "\n",
    "An array can have any number of dimensions.\n",
    "\n",
    "When the array is created, you can define the number of dimensions by using the ndmin argument."
   ]
  },
  {
   "cell_type": "markdown",
   "id": "06a64271",
   "metadata": {},
   "source": [
    "<i>Create an array with 5 dimensions and verify that it has 5 dimensions:</i>"
   ]
  },
  {
   "cell_type": "code",
   "execution_count": 25,
   "id": "210e2fd8",
   "metadata": {},
   "outputs": [
    {
     "name": "stdout",
     "output_type": "stream",
     "text": [
      "[[[[[1 2 3 4]]]]]\n",
      "Number of dimensions: 5\n"
     ]
    }
   ],
   "source": [
    "myarray = [1, 2, 3, 4]\n",
    "\n",
    "highD = np.array(myarray, ndmin = 5)\n",
    "print(highD)\n",
    "print(f\"Number of dimensions: {highD.ndim}\")"
   ]
  },
  {
   "cell_type": "code",
   "execution_count": null,
   "id": "71957b54",
   "metadata": {},
   "outputs": [],
   "source": []
  }
 ],
 "metadata": {
  "kernelspec": {
   "display_name": "Python 3 (ipykernel)",
   "language": "python",
   "name": "python3"
  },
  "language_info": {
   "codemirror_mode": {
    "name": "ipython",
    "version": 3
   },
   "file_extension": ".py",
   "mimetype": "text/x-python",
   "name": "python",
   "nbconvert_exporter": "python",
   "pygments_lexer": "ipython3",
   "version": "3.9.13"
  }
 },
 "nbformat": 4,
 "nbformat_minor": 5
}
