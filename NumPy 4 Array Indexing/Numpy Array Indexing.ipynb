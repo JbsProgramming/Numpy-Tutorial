{
 "cells": [
  {
   "cell_type": "markdown",
   "id": "3f514a22",
   "metadata": {},
   "source": [
    "# Access Array Elements\n",
    "\n",
    "Array indexing is the same as accessing an array element.\n",
    "\n",
    "You can access an array element by referring to its index number.\n",
    "\n",
    "The indexes in NumPy arrays start with 0, meaning that the first element has index 0, and the second has index 1 etc."
   ]
  },
  {
   "cell_type": "markdown",
   "id": "fbd12768",
   "metadata": {},
   "source": [
    "<i>Get the first element from the following array:</i>"
   ]
  },
  {
   "cell_type": "code",
   "execution_count": 3,
   "id": "cd9f2f79",
   "metadata": {},
   "outputs": [
    {
     "name": "stdout",
     "output_type": "stream",
     "text": [
      "3\n"
     ]
    }
   ],
   "source": [
    "import numpy as np\n",
    "\n",
    "value = [1, 2, 3, 4, 5]\n",
    "\n",
    "x = np.array(value)\n",
    "print(x[2])"
   ]
  },
  {
   "cell_type": "markdown",
   "id": "78301ac8",
   "metadata": {},
   "source": [
    "### My Customizations on Access array elements\n"
   ]
  },
  {
   "cell_type": "code",
   "execution_count": 4,
   "id": "a4cca432",
   "metadata": {},
   "outputs": [
    {
     "name": "stdout",
     "output_type": "stream",
     "text": [
      "Insert an index number to fetch the array element: 2\n",
      "Index number 2 has 3\n"
     ]
    }
   ],
   "source": [
    "import numpy as np\n",
    "\n",
    "value = [1, 2, 3, 4, 5]\n",
    "\n",
    "x = np.array(value)\n",
    "index = int(input(\"Insert an index number to fetch the array element: \"))\n",
    "print(f\"Index number {index} has {x[index]}\")\n"
   ]
  },
  {
   "cell_type": "markdown",
   "id": "a1adfe3e",
   "metadata": {},
   "source": [
    "<i>Get third and fourth elements from the following array and add them.</i>"
   ]
  },
  {
   "cell_type": "code",
   "execution_count": 5,
   "id": "e8cc421e",
   "metadata": {},
   "outputs": [
    {
     "name": "stdout",
     "output_type": "stream",
     "text": [
      "7\n"
     ]
    }
   ],
   "source": [
    "print(x[2] + x[3])"
   ]
  },
  {
   "cell_type": "markdown",
   "id": "8ac4d693",
   "metadata": {},
   "source": [
    "# Access 2-D Arrays\n",
    "\n",
    "To access elements from 2-D arrays we can use comma separated integers representing the dimension and the index of the element.\n",
    "\n",
    "Think of 2-D arrays like a table with rows and columns, where the dimension represents the row and the index represents the column."
   ]
  },
  {
   "cell_type": "code",
   "execution_count": 15,
   "id": "7cb08246",
   "metadata": {},
   "outputs": [
    {
     "name": "stdout",
     "output_type": "stream",
     "text": [
      "[[ 1  2  3  4  5]\n",
      " [ 6  7  8  9 10]]\n",
      "3rd element of 2nd row: 8\n"
     ]
    }
   ],
   "source": [
    "arr = np.array([[1,2,3,4,5],[6,7,8,9,10]])\n",
    "print(arr)\n",
    "print(\"3rd element of 2nd row:\", arr[1,2])"
   ]
  },
  {
   "cell_type": "code",
   "execution_count": 16,
   "id": "b623afe9",
   "metadata": {},
   "outputs": [
    {
     "name": "stdout",
     "output_type": "stream",
     "text": [
      "[[1 2 3]\n",
      " [7 8 9]]\n",
      "2nd element of 1st row: 2\n"
     ]
    }
   ],
   "source": [
    "myarr = np.array([[1, 2, 3], [7, 8, 9]])\n",
    "print(myarr)\n",
    "print(\"2nd element of 1st row:\",myarr[0, 1])"
   ]
  },
  {
   "cell_type": "markdown",
   "id": "cc3a02f9",
   "metadata": {},
   "source": [
    "# Access 3-D Arrays\n",
    "\n",
    "To access elements from 3-D arrays we can use comma separated integers representing the dimensions and the index of the element."
   ]
  },
  {
   "cell_type": "markdown",
   "id": "df11128f",
   "metadata": {},
   "source": [
    "<i>Access the third element of the second array of the first array:</i>"
   ]
  },
  {
   "cell_type": "code",
   "execution_count": null,
   "id": "4b3c63b1",
   "metadata": {},
   "outputs": [],
   "source": [
    "arr = np. "
   ]
  }
 ],
 "metadata": {
  "kernelspec": {
   "display_name": "Python 3 (ipykernel)",
   "language": "python",
   "name": "python3"
  },
  "language_info": {
   "codemirror_mode": {
    "name": "ipython",
    "version": 3
   },
   "file_extension": ".py",
   "mimetype": "text/x-python",
   "name": "python",
   "nbconvert_exporter": "python",
   "pygments_lexer": "ipython3",
   "version": "3.9.13"
  }
 },
 "nbformat": 4,
 "nbformat_minor": 5
}
