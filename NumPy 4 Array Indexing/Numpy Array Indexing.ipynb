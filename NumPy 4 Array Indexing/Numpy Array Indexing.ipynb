{
 "cells": [
  {
   "cell_type": "markdown",
   "id": "c61aa3ea",
   "metadata": {},
   "source": [
    "# Access Array Elements\n",
    "\n",
    "Array indexing is the same as accessing an array element.\n",
    "\n",
    "You can access an array element by referring to its index number.\n",
    "\n",
    "The indexes in NumPy arrays start with 0, meaning that the first element has index 0, and the second has index 1 etc."
   ]
  },
  {
   "cell_type": "markdown",
   "id": "93ef6a5c",
   "metadata": {},
   "source": [
    "<i>Get the first element from the following array:</i>"
   ]
  },
  {
   "cell_type": "code",
   "execution_count": 3,
   "id": "49c1c5fa",
   "metadata": {},
   "outputs": [
    {
     "name": "stdout",
     "output_type": "stream",
     "text": [
      "3\n"
     ]
    }
   ],
   "source": [
    "import numpy as np\n",
    "\n",
    "value = [1, 2, 3, 4, 5]\n",
    "\n",
    "x = np.array(value)\n",
    "print(x[2])"
   ]
  },
  {
   "cell_type": "markdown",
   "id": "6b009f7d",
   "metadata": {},
   "source": [
    "### My Customizations on Access array elements\n"
   ]
  },
  {
   "cell_type": "code",
   "execution_count": 2,
   "id": "ea6d6e5d",
   "metadata": {},
   "outputs": [
    {
     "name": "stdout",
     "output_type": "stream",
     "text": [
      "Insert an index number to fetch the array element: 4\n",
      "Index number 4 has 5\n"
     ]
    }
   ],
   "source": [
    "import numpy as np\n",
    "\n",
    "value = [1, 2, 3, 4, 5]\n",
    "\n",
    "x = np.array(value)\n",
    "index = int(input(\"Insert an index number to fetch the array element: \"))\n",
    "print(f\"Index number {index} has {x[index]}\")\n"
   ]
  },
  {
   "cell_type": "markdown",
   "id": "ef01f415",
   "metadata": {},
   "source": [
    "<i>Get third and fourth elements from the following array and add them.</i>"
   ]
  },
  {
   "cell_type": "code",
   "execution_count": 3,
   "id": "2a803a6c",
   "metadata": {},
   "outputs": [
    {
     "name": "stdout",
     "output_type": "stream",
     "text": [
      "7\n"
     ]
    }
   ],
   "source": [
    "print(x[2] + x[3])"
   ]
  },
  {
   "cell_type": "markdown",
   "id": "b424af36",
   "metadata": {},
   "source": [
    "# Access 2-D Arrays\n",
    "\n",
    "To access elements from 2-D arrays we can use comma separated integers representing the dimension and the index of the element.\n",
    "\n",
    "Think of 2-D arrays like a table with rows and columns, where the dimension represents the row and the index represents the column."
   ]
  },
  {
   "cell_type": "code",
   "execution_count": 6,
   "id": "337aafbc",
   "metadata": {},
   "outputs": [
    {
     "name": "stdout",
     "output_type": "stream",
     "text": [
      "[[ 1  2  3  4  5]\n",
      " [ 6  7  8  9 10]]\n",
      "3rd element of 2nd row: 8\n"
     ]
    }
   ],
   "source": [
    "arr = np.array([[1,2,3,4,5],[6,7,8,9,10]])\n",
    "print(arr)\n",
    "print(\"3rd element of 2nd row:\", arr[1,2])"
   ]
  },
  {
   "cell_type": "code",
   "execution_count": 16,
   "id": "e1d34d1e",
   "metadata": {},
   "outputs": [
    {
     "name": "stdout",
     "output_type": "stream",
     "text": [
      "[[1 2 3]\n",
      " [7 8 9]]\n",
      "2nd element of 1st row: 2\n"
     ]
    }
   ],
   "source": [
    "myarr = np.array([[1, 2, 3], [7, 8, 9]])\n",
    "print(myarr)\n",
    "print(\"2nd element of 1st row:\",myarr[0, 1])"
   ]
  },
  {
   "cell_type": "markdown",
   "id": "e7a2abba",
   "metadata": {},
   "source": [
    "# Access 3-D Arrays\n",
    "\n",
    "To access elements from 3-D arrays we can use comma separated integers representing the dimensions and the index of the element."
   ]
  },
  {
   "cell_type": "markdown",
   "id": "c769398a",
   "metadata": {},
   "source": [
    "<i>Access the third element of the second array of the first array:</i>"
   ]
  },
  {
   "cell_type": "code",
   "execution_count": 21,
   "id": "a677dde9",
   "metadata": {},
   "outputs": [
    {
     "name": "stdout",
     "output_type": "stream",
     "text": [
      "[[[ 1  2  3]\n",
      "  [ 4  5  6]]\n",
      "\n",
      " [[ 7  8  9]\n",
      "  [10 11 12]]]\n",
      "6\n"
     ]
    }
   ],
   "source": [
    "arr = np.array([[[1, 2, 3], [4, 5, 6]], [[7, 8, 9], [10, 11, 12]]])\n",
    "print(arr)\n",
    "print(arr[0, 1, 2])"
   ]
  },
  {
   "cell_type": "markdown",
   "id": "48d1f85f",
   "metadata": {},
   "source": [
    "# Example Explained\n",
    "\n",
    "arr[0, 1, 2] prints the value 6.\n",
    "\n",
    "And this is why:\n",
    "\n",
    "The first number represents the first dimension, which contains two arrays:\n",
    "[[1, 2, 3], [4, 5, 6]]\n",
    "and:\n",
    "[[7, 8, 9], [10, 11, 12]]\n",
    "Since we selected 0, we are left with the first array:\n",
    "[[1, 2, 3], [4, 5, 6]]\n",
    "\n",
    "The second number represents the second dimension, which also contains two arrays:\n",
    "[1, 2, 3]\n",
    "and:\n",
    "[4, 5, 6]\n",
    "Since we selected 1, we are left with the second array:\n",
    "[4, 5, 6]\n",
    "\n",
    "The third number represents the third dimension, which contains three values:\n",
    "4\n",
    "5\n",
    "6\n",
    "Since we selected 2, we end up with the third value:\n",
    "6"
   ]
  },
  {
   "cell_type": "markdown",
   "id": "34e4949e",
   "metadata": {},
   "source": [
    "# Negative Indexing\n",
    "\n",
    "Use negative indexing to access an array from the end."
   ]
  },
  {
   "cell_type": "markdown",
   "id": "5ff13f97",
   "metadata": {},
   "source": [
    "<i>Print the last element from the 2nd dim:</i>"
   ]
  },
  {
   "cell_type": "code",
   "execution_count": 7,
   "id": "5a662cdd",
   "metadata": {},
   "outputs": [
    {
     "name": "stdout",
     "output_type": "stream",
     "text": [
      "Last element from 2nd dimension:  10\n"
     ]
    }
   ],
   "source": [
    "arr = np.array([[1,2,3,4,5], [6,7,8,9,10]])\n",
    "print(\"Last element from 2nd dimension: \", arr[1, -1])"
   ]
  }
 ],
 "metadata": {
  "kernelspec": {
   "display_name": "Python 3 (ipykernel)",
   "language": "python",
   "name": "python3"
  },
  "language_info": {
   "codemirror_mode": {
    "name": "ipython",
    "version": 3
   },
   "file_extension": ".py",
   "mimetype": "text/x-python",
   "name": "python",
   "nbconvert_exporter": "python",
   "pygments_lexer": "ipython3",
   "version": "3.9.13"
  }
 },
 "nbformat": 4,
 "nbformat_minor": 5
}
