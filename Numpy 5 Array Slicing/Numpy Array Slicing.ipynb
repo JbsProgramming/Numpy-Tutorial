{
 "cells": [
  {
   "cell_type": "markdown",
   "id": "b7fd663b",
   "metadata": {},
   "source": [
    "# Numpy Array Slicing"
   ]
  },
  {
   "cell_type": "markdown",
   "id": "755bd019",
   "metadata": {},
   "source": [
    "#### @jabedkhanjb"
   ]
  },
  {
   "cell_type": "markdown",
   "id": "0d0ae6aa",
   "metadata": {},
   "source": [
    "# Slicing arrays\n",
    "\n",
    "Slicing in python means taking elements from one given index to another given index.\n",
    "\n",
    "We pass slice instead of index like this: [start:end].\n",
    "\n",
    "We can also define the step, like this: [start:end:step].\n",
    "\n",
    "If we don't pass start its considered 0\n",
    "\n",
    "If we don't pass end its considered length of array in that dimension\n",
    "\n",
    "If we don't pass step its considered 1"
   ]
  },
  {
   "cell_type": "markdown",
   "id": "198a7869",
   "metadata": {},
   "source": [
    "<i>Slice elements from index 1 to index 5 from the following array:</i>"
   ]
  },
  {
   "cell_type": "code",
   "execution_count": 2,
   "id": "ed55e1a6",
   "metadata": {},
   "outputs": [
    {
     "name": "stdout",
     "output_type": "stream",
     "text": [
      "Slicing:  [2 3 4 5]\n"
     ]
    }
   ],
   "source": [
    "import numpy as np\n",
    "\n",
    "arr = np.array([1, 2, 3, 4, 5, 6, 7])\n",
    "print(\"Slicing: \", arr[1:5])"
   ]
  },
  {
   "cell_type": "markdown",
   "id": "1f15bba8",
   "metadata": {},
   "source": [
    "<i>Slice elements from n index to the end of the array:</i>"
   ]
  },
  {
   "cell_type": "markdown",
   "id": "80338c23",
   "metadata": {},
   "source": [
    "now we will print the value from start index to the end of the array only by passing start index value.\n",
    "here we ain't calling import numpy or array constant each time"
   ]
  },
  {
   "cell_type": "code",
   "execution_count": 6,
   "id": "f14aaf6f",
   "metadata": {},
   "outputs": [
    {
     "name": "stdout",
     "output_type": "stream",
     "text": [
      "Start Index to the end of the array: [5 6 7]\n"
     ]
    }
   ],
   "source": [
    "print(\"Start Index to the end of the array:\", arr[4:])"
   ]
  },
  {
   "cell_type": "markdown",
   "id": "600c8077",
   "metadata": {},
   "source": [
    "<i>Slice elements from the beginning to the n index (not included):</i>"
   ]
  },
  {
   "cell_type": "code",
   "execution_count": 8,
   "id": "873192e6",
   "metadata": {},
   "outputs": [
    {
     "name": "stdout",
     "output_type": "stream",
     "text": [
      "from the beginning to the n index: [1 2]\n"
     ]
    }
   ],
   "source": [
    "print(\"from the beginning to the n index:\", arr[:2])"
   ]
  },
  {
   "cell_type": "markdown",
   "id": "ade08f75",
   "metadata": {},
   "source": [
    "# Negative Slicing\n",
    "\n",
    "Use the minus operator to refer to an index from the end:\n"
   ]
  },
  {
   "cell_type": "markdown",
   "id": "24dd6591",
   "metadata": {},
   "source": [
    "<i>Slice from the index 3 from the end to index 1 from the end:</i>"
   ]
  },
  {
   "cell_type": "code",
   "execution_count": 2,
   "id": "ddd83bd8",
   "metadata": {},
   "outputs": [
    {
     "name": "stdout",
     "output_type": "stream",
     "text": [
      "[4 5 6]\n"
     ]
    }
   ],
   "source": [
    "import numpy\n",
    "arr = numpy.array([1, 2, 3, 4, 5, 6, 7])\n",
    "print(arr[-4:-1])"
   ]
  },
  {
   "cell_type": "code",
   "execution_count": 18,
   "id": "3f8dc15b",
   "metadata": {},
   "outputs": [
    {
     "name": "stdout",
     "output_type": "stream",
     "text": [
      "Specify Start & End index: [48 62 15 34]\n",
      "Specify Start index: [15 34 25 96 40]\n",
      "Specify End index: [75 89 48 62 15 34]\n",
      "Negative indexing: [89 48 62 15 34 25]\n"
     ]
    }
   ],
   "source": [
    "import numpy as np\n",
    "\n",
    "myarray = np.array([75, 89, 48 , 62, 15, 34, 25, 96, 40])\n",
    "print(\"Specify Start & End index:\", myarray[2:6])\n",
    "print(\"Specify Start index:\", myarray[4:])\n",
    "print(\"Specify End index:\", myarray[:6])\n",
    "print(\"Negative indexing:\", myarray[-8:-2])\n"
   ]
  },
  {
   "cell_type": "markdown",
   "id": "9834de22",
   "metadata": {},
   "source": [
    "# STEP\n",
    "\n",
    "Use the step value to determine the step of the slicing:"
   ]
  },
  {
   "cell_type": "markdown",
   "id": "11965a05",
   "metadata": {},
   "source": [
    "<i>Return every other element from index 1 to index 5:</i>"
   ]
  },
  {
   "cell_type": "code",
   "execution_count": 26,
   "id": "495f1bdc",
   "metadata": {},
   "outputs": [
    {
     "name": "stdout",
     "output_type": "stream",
     "text": [
      "[89 15 96]\n"
     ]
    }
   ],
   "source": [
    "myarray = np.array([75, 89, 48 , 62, 15, 34, 25, 96, 40])\n",
    "print(myarray[1:8:3])"
   ]
  },
  {
   "cell_type": "markdown",
   "id": "24c45b2b",
   "metadata": {},
   "source": [
    "<b>Note:</b> here 3 represents that the number of index between 1 to 8 will print each after 3 index numbers consecutively"
   ]
  },
  {
   "cell_type": "markdown",
   "id": "dab3bcfe",
   "metadata": {},
   "source": [
    "<i>Return every other element from the entire array:</i>"
   ]
  },
  {
   "cell_type": "code",
   "execution_count": 27,
   "id": "2168e9df",
   "metadata": {},
   "outputs": [
    {
     "name": "stdout",
     "output_type": "stream",
     "text": [
      "[75 48 15 25 40]\n",
      "[75 62 25]\n",
      "[75 34]\n"
     ]
    }
   ],
   "source": [
    "print(myarray[::2])\n",
    "print(myarray[::3])\n",
    "print(myarray[::5])"
   ]
  },
  {
   "cell_type": "markdown",
   "id": "9f6b4fd1",
   "metadata": {},
   "source": [
    "# Slicing 2-D Arrays"
   ]
  },
  {
   "cell_type": "markdown",
   "id": "7febd662",
   "metadata": {},
   "source": [
    "<i>From the second element, slice elements from index 1 to index 4 (not included):</i>\n",
    "\n"
   ]
  },
  {
   "cell_type": "code",
   "execution_count": 36,
   "id": "7d8f127d",
   "metadata": {},
   "outputs": [
    {
     "name": "stdout",
     "output_type": "stream",
     "text": [
      "[7 8 9]\n",
      "[1 2 3 4]\n",
      "[4 5]\n",
      "[7 8]\n"
     ]
    }
   ],
   "source": [
    "import numpy as np\n",
    "\n",
    "arr = np.array([[1, 2, 3, 4, 5], [6, 7, 8, 9, 10]])\n",
    "\n",
    "print(arr[1, 1:4]) \n",
    "print(arr[0, :4]) \n",
    "print(arr[0, 3:]) \n",
    "print(arr[1, -4:-2]) \n"
   ]
  },
  {
   "cell_type": "markdown",
   "id": "316ebfb0",
   "metadata": {},
   "source": [
    "<i>From both elements, return n index:</i>"
   ]
  },
  {
   "cell_type": "code",
   "execution_count": 42,
   "id": "724ff0ff",
   "metadata": {},
   "outputs": [
    {
     "name": "stdout",
     "output_type": "stream",
     "text": [
      "[ 5 10]\n"
     ]
    }
   ],
   "source": [
    "import numpy as np\n",
    "\n",
    "arr = np.array([[1, 2, 3, 4, 5], [6, 7, 8, 9, 10]])\n",
    "\n",
    "print(arr[0:2, 4]) "
   ]
  },
  {
   "cell_type": "markdown",
   "id": "b7beeb19",
   "metadata": {},
   "source": [
    "<i>From both elements, slice index 1 to index 4 (not included), this will return a 2-D array:</i>"
   ]
  },
  {
   "cell_type": "code",
   "execution_count": 43,
   "id": "98ba020f",
   "metadata": {},
   "outputs": [
    {
     "name": "stdout",
     "output_type": "stream",
     "text": [
      "[[2 3 4]\n",
      " [7 8 9]]\n"
     ]
    }
   ],
   "source": [
    "import numpy as np\n",
    "\n",
    "arr = np.array([[1, 2, 3, 4, 5], [6, 7, 8, 9, 10]])\n",
    "\n",
    "print(arr[0:2, 1:4]) "
   ]
  },
  {
   "cell_type": "code",
   "execution_count": null,
   "id": "0a315508",
   "metadata": {},
   "outputs": [],
   "source": []
  }
 ],
 "metadata": {
  "kernelspec": {
   "display_name": "Python 3 (ipykernel)",
   "language": "python",
   "name": "python3"
  },
  "language_info": {
   "codemirror_mode": {
    "name": "ipython",
    "version": 3
   },
   "file_extension": ".py",
   "mimetype": "text/x-python",
   "name": "python",
   "nbconvert_exporter": "python",
   "pygments_lexer": "ipython3",
   "version": "3.9.13"
  }
 },
 "nbformat": 4,
 "nbformat_minor": 5
}
