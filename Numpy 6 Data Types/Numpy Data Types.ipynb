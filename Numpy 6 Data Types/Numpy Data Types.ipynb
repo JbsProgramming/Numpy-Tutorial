{
 "cells": [
  {
   "cell_type": "markdown",
   "id": "f676a9c0",
   "metadata": {},
   "source": [
    "# Numpy Data Types"
   ]
  },
  {
   "cell_type": "markdown",
   "id": "1a9712cb",
   "metadata": {},
   "source": [
    "#### @jabedkhanjb\n"
   ]
  },
  {
   "cell_type": "markdown",
   "id": "af8c10a5",
   "metadata": {},
   "source": [
    "Data Types in Python\n",
    "\n",
    "By default Python have these data types:\n",
    "\n",
    "    strings - used to represent text data, the text is given under quote marks. e.g. \"ABCD\"\n",
    "    integer - used to represent integer numbers. e.g. -1, -2, -3 or 1, 2, 3\n",
    "    float - used to represent real numbers. e.g. 1.2, 42.42\n",
    "    boolean - used to represent True or False.\n",
    "    complex - used to represent complex numbers. e.g. 1.0 + 2.0j, 1.5 + 2.5j\n",
    "\n",
    "Data Types in NumPy\n",
    "\n",
    "NumPy has some extra data types, and refer to data types with one character, like i for integers, u for unsigned integers etc.\n",
    "\n",
    "Below is a list of all data types in NumPy and the characters used to represent them.\n",
    "\n",
    "    i - integer\n",
    "    b - boolean\n",
    "    u - unsigned integer\n",
    "    f - float\n",
    "    c - complex float\n",
    "    m - timedelta\n",
    "    M - datetime\n",
    "    O - object\n",
    "    S - string\n",
    "    U - unicode string\n",
    "    V - fixed chunk of memory for other type ( void )\n"
   ]
  },
  {
   "cell_type": "markdown",
   "id": "c304d55d",
   "metadata": {},
   "source": [
    "# Checking the Data Type of an Array\n",
    "\n",
    "The NumPy array object has a property called dtype that returns the data type of the array:"
   ]
  },
  {
   "cell_type": "markdown",
   "id": "0b8523b7",
   "metadata": {},
   "source": [
    "<i>Get the data type of an array object:</i>"
   ]
  },
  {
   "cell_type": "code",
   "execution_count": 4,
   "id": "28ac9317",
   "metadata": {},
   "outputs": [
    {
     "name": "stdout",
     "output_type": "stream",
     "text": [
      "int32\n"
     ]
    }
   ],
   "source": [
    "import numpy as np\n",
    "\n",
    "arr = np.array([1,2,3,4,5])\n",
    "print(arr.dtype)"
   ]
  },
  {
   "cell_type": "code",
   "execution_count": 8,
   "id": "9bdb2358",
   "metadata": {},
   "outputs": [
    {
     "name": "stdout",
     "output_type": "stream",
     "text": [
      "['iPhone' 'MacBook' 'Android' 'Windows']\n",
      "<U7\n"
     ]
    }
   ],
   "source": [
    "arr = np.array(['iPhone', 'MacBook', 'Android', 'Windows'])\n",
    "print(arr[::1])\n",
    "print(arr.dtype)"
   ]
  },
  {
   "cell_type": "markdown",
   "id": "2e8e9fc7",
   "metadata": {},
   "source": [
    "# Creating Arrays With a Defined Data Type\n",
    "\n",
    "We use the array() function to create arrays, this function can take an optional argument: dtype that allows us to define the expected data type of the array elements:"
   ]
  },
  {
   "cell_type": "code",
   "execution_count": 11,
   "id": "2adcdfe9",
   "metadata": {},
   "outputs": [
    {
     "name": "stdout",
     "output_type": "stream",
     "text": [
      "[b'1' b'2' b'3' b'4']\n",
      "|S1\n"
     ]
    }
   ],
   "source": [
    "arr = np.array([1, 2, 3, 4], dtype='S')\n",
    "print(arr)\n",
    "print(arr.dtype)"
   ]
  },
  {
   "cell_type": "code",
   "execution_count": 13,
   "id": "903ef7cc",
   "metadata": {},
   "outputs": [
    {
     "name": "stdout",
     "output_type": "stream",
     "text": [
      "[1 2 3 4]\n",
      "int32\n"
     ]
    }
   ],
   "source": [
    "arr = np.array([1, 2, 3, 4], dtype='i4')\n",
    "print(arr)\n",
    "print(arr.dtype)"
   ]
  },
  {
   "cell_type": "markdown",
   "id": "941d971d",
   "metadata": {},
   "source": [
    "# What if a Value Can Not Be Converted?\n",
    "\n",
    "If a type is given in which elements can't be casted then NumPy will raise a ValueError.\n",
    "\n",
    "ValueError: In Python ValueError is raised when the type of passed argument to a function is unexpected/incorrect.\n"
   ]
  },
  {
   "cell_type": "markdown",
   "id": "919f69a6",
   "metadata": {},
   "source": [
    "<i>A non integer string like 'a' can not be converted to integer (will raise an error):</i>"
   ]
  },
  {
   "cell_type": "code",
   "execution_count": 14,
   "id": "6afa3aa9",
   "metadata": {},
   "outputs": [
    {
     "ename": "ValueError",
     "evalue": "invalid literal for int() with base 10: 'a'",
     "output_type": "error",
     "traceback": [
      "\u001b[1;31m---------------------------------------------------------------------------\u001b[0m",
      "\u001b[1;31mValueError\u001b[0m                                Traceback (most recent call last)",
      "\u001b[1;32m~\\AppData\\Local\\Temp\\ipykernel_6196\\3799948058.py\u001b[0m in \u001b[0;36m<module>\u001b[1;34m\u001b[0m\n\u001b[0;32m      3\u001b[0m \u001b[1;32mimport\u001b[0m \u001b[0mnumpy\u001b[0m \u001b[1;32mas\u001b[0m \u001b[0mnp\u001b[0m\u001b[1;33m\u001b[0m\u001b[1;33m\u001b[0m\u001b[0m\n\u001b[0;32m      4\u001b[0m \u001b[1;33m\u001b[0m\u001b[0m\n\u001b[1;32m----> 5\u001b[1;33m \u001b[0marr\u001b[0m \u001b[1;33m=\u001b[0m \u001b[0mnp\u001b[0m\u001b[1;33m.\u001b[0m\u001b[0marray\u001b[0m\u001b[1;33m(\u001b[0m\u001b[1;33m[\u001b[0m\u001b[1;34m'a'\u001b[0m\u001b[1;33m,\u001b[0m \u001b[1;34m'2'\u001b[0m\u001b[1;33m,\u001b[0m \u001b[1;34m'3'\u001b[0m\u001b[1;33m]\u001b[0m\u001b[1;33m,\u001b[0m \u001b[0mdtype\u001b[0m\u001b[1;33m=\u001b[0m\u001b[1;34m'i'\u001b[0m\u001b[1;33m)\u001b[0m\u001b[1;33m\u001b[0m\u001b[1;33m\u001b[0m\u001b[0m\n\u001b[0m",
      "\u001b[1;31mValueError\u001b[0m: invalid literal for int() with base 10: 'a'"
     ]
    }
   ],
   "source": [
    "# Precaution: This code has ValueError\n",
    "\n",
    "import numpy as np\n",
    "\n",
    "arr = np.array(['a', '2', '3'], dtype='i') "
   ]
  },
  {
   "cell_type": "markdown",
   "id": "0594cf14",
   "metadata": {},
   "source": [
    "# Converting Data Type on Existing Arrays\n",
    "\n",
    "The best way to change the data type of an existing array, is to make a copy of the array with the astype() method.\n",
    "\n",
    "The astype() function creates a copy of the array, and allows you to specify the data type as a parameter.\n",
    "\n",
    "The data type can be specified using a string, like 'f' for float, 'i' for integer etc. or you can use the data type directly like float for float and int for integer."
   ]
  },
  {
   "cell_type": "markdown",
   "id": "4757b431",
   "metadata": {},
   "source": [
    "<i>Change data type from float to integer by using 'i' as parameter value:</i>\n"
   ]
  },
  {
   "cell_type": "code",
   "execution_count": 9,
   "id": "72720602",
   "metadata": {},
   "outputs": [
    {
     "name": "stdout",
     "output_type": "stream",
     "text": [
      "[1.1 2.1 3.1]\n",
      "float64\n",
      "[1 2 3]\n",
      "int32\n"
     ]
    }
   ],
   "source": [
    "arr = np.array([1.1, 2.1, 3.1]) \n",
    "\n",
    "newarr = arr.astype('i')\n",
    "\n",
    "print(arr)\n",
    "print(arr.dtype)\n",
    "print(newarr)\n",
    "print(newarr.dtype) "
   ]
  },
  {
   "cell_type": "markdown",
   "id": "9fa1a8c7",
   "metadata": {},
   "source": [
    "Change data type from float to integer by using int as parameter value:"
   ]
  },
  {
   "cell_type": "code",
   "execution_count": 10,
   "id": "b64f29ae",
   "metadata": {},
   "outputs": [
    {
     "name": "stdout",
     "output_type": "stream",
     "text": [
      "[1 2 3]\n",
      "int32\n"
     ]
    }
   ],
   "source": [
    "arr = np.array([1.1, 2.1, 3.1])\n",
    "\n",
    "newarr = arr.astype(\"int\")\n",
    "\n",
    "print(newarr)\n",
    "print(newarr.dtype) "
   ]
  },
  {
   "cell_type": "markdown",
   "id": "b7e54b68",
   "metadata": {},
   "source": [
    "Change data type from integer to float by using f and float as parameter value:"
   ]
  },
  {
   "cell_type": "code",
   "execution_count": 11,
   "id": "2061d074",
   "metadata": {},
   "outputs": [
    {
     "name": "stdout",
     "output_type": "stream",
     "text": [
      "[ 1  5  6  9 12 75]\n",
      "int32\n",
      "Using f parameter: float32\n",
      "Using float parameter: float64\n"
     ]
    }
   ],
   "source": [
    "arr = np.array([1, 5, 6, 9, 12, 75])\n",
    "\n",
    "print(arr)\n",
    "print(arr.dtype)\n",
    "newarr = arr.astype(\"f\")\n",
    "print(\"Using f parameter:\", newarr.dtype)\n",
    "\n",
    "secarr = arr.astype(\"float\")\n",
    "print(\"Using float parameter:\", secarr.dtype)"
   ]
  },
  {
   "cell_type": "markdown",
   "id": "5f48c8c1",
   "metadata": {},
   "source": [
    "so the difference i can see above is that when we use f for float parameter to convert our integer array, it shows the dtype of this array as float32, and on either if we replace f to float as a parameter of float to convert integer into float it shows the dtype as float64"
   ]
  },
  {
   "cell_type": "markdown",
   "id": "ecdccf4b",
   "metadata": {},
   "source": [
    "<i>Change data type from integer to boolean:</i>"
   ]
  },
  {
   "cell_type": "code",
   "execution_count": 15,
   "id": "98c0d02f",
   "metadata": {},
   "outputs": [
    {
     "name": "stdout",
     "output_type": "stream",
     "text": [
      "[ True False  True]\n",
      "bool\n"
     ]
    }
   ],
   "source": [
    "import numpy as np\n",
    "\n",
    "arr = np.array([1, 0, 3])\n",
    "\n",
    "newarr = arr.astype(bool)\n",
    "\n",
    "print(newarr)\n",
    "print(newarr.dtype) "
   ]
  },
  {
   "cell_type": "markdown",
   "id": "f9146c8d",
   "metadata": {},
   "source": [
    "Okay now we will change the array value into float and let's see what gonna happen in boolean method."
   ]
  },
  {
   "cell_type": "code",
   "execution_count": 17,
   "id": "8a5a98c5",
   "metadata": {},
   "outputs": [
    {
     "name": "stdout",
     "output_type": "stream",
     "text": [
      "[ True  True  True  True False]\n",
      "bool\n"
     ]
    }
   ],
   "source": [
    "arr = np.array([1.01, 0.1, 3.2, 0.9, 0])\n",
    "\n",
    "newarr = arr.astype(bool)\n",
    "print(newarr)\n",
    "print(newarr.dtype)"
   ]
  },
  {
   "cell_type": "markdown",
   "id": "0cc41357",
   "metadata": {},
   "source": [
    "### Note: \n",
    "In boolean 0 means False and 1 means True. and in our float array we took some array numbers as 0.1, 0.9 and from the mathematical view these are not exactly 0\n",
    "so, 0.1 or 0.9 these are completely more than 0 and which is not supposed to be True and that happened in our program execution. it tooks 0 parameter as a False boolean. \n",
    "\n",
    "## github.com/jabedkhanjb"
   ]
  },
  {
   "cell_type": "code",
   "execution_count": null,
   "id": "b1d1c1e6",
   "metadata": {},
   "outputs": [],
   "source": []
  }
 ],
 "metadata": {
  "kernelspec": {
   "display_name": "Python 3 (ipykernel)",
   "language": "python",
   "name": "python3"
  },
  "language_info": {
   "codemirror_mode": {
    "name": "ipython",
    "version": 3
   },
   "file_extension": ".py",
   "mimetype": "text/x-python",
   "name": "python",
   "nbconvert_exporter": "python",
   "pygments_lexer": "ipython3",
   "version": "3.9.13"
  }
 },
 "nbformat": 4,
 "nbformat_minor": 5
}
